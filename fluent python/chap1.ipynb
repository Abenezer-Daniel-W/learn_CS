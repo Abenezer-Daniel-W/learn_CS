{
 "cells": [
  {
   "cell_type": "markdown",
   "metadata": {},
   "source": [
    "# Chapter 1\n",
    "the python data model is an api by which user create objects can interact with the python interpreter to have the following functionalities.\n",
    "- Collections\n",
    "- Attribute access\n",
    "- Iteration (including asynchronous iteration using async for)\n",
    "- Operator overloading\n",
    "- Function and method invocation\n",
    "- String representation and formatting\n",
    "- Asynchronous programming using await\n",
    "- Object creation and destruction\n",
    "- Managed contexts using the with or async with statements"
   ]
  },
  {
   "cell_type": "code",
   "execution_count": 2,
   "metadata": {},
   "outputs": [],
   "source": [
    "import collections\n",
    "\n",
    "\n",
    "Card = collections.namedtuple('Card', ['rank', 'suit'])\n",
    "\n",
    "class FrenchDeck:\n",
    "    # class variables that care the same acros object instances\n",
    "    ranks = [str(n) for n in range(2, 11)] + list('JQKA')\n",
    "    suits = 'spades diamonds clubs hearts'.split()\n",
    "\n",
    "    def __init__(self):\n",
    "        self._cards = [Card(rank, suit) for suit in self.suits\n",
    "                                        for rank in self.ranks]\n",
    "\n",
    "    def __len__(self):\n",
    "        return len(self._cards)\n",
    "    \n",
    "    def __setitem__(self, index,value):\n",
    "        self._cards[index] = value\n",
    "\n",
    "    def __getitem__(self, position):\n",
    "        return self._cards[position]"
   ]
  },
  {
   "cell_type": "code",
   "execution_count": 3,
   "metadata": {},
   "outputs": [
    {
     "name": "stdout",
     "output_type": "stream",
     "text": [
      "Card(rank='A', suit='hearts') A hearts A hearts\n"
     ]
    }
   ],
   "source": [
    "# names tuple just creates a class where the properties can \n",
    "# be refered to by name of by index like a tuple\n",
    "ace = Card(\"A\", suit='hearts')\n",
    "print(ace, ace.rank, ace.suit, ace[0], ace[1])"
   ]
  },
  {
   "cell_type": "markdown",
   "metadata": {},
   "source": [
    "By implementing `getitem` and `len` methods we can now interact with these classes in very powerful and convenient ways."
   ]
  },
  {
   "cell_type": "code",
   "execution_count": 4,
   "metadata": {},
   "outputs": [
    {
     "data": {
      "text/plain": [
       "(Card(rank='2', suit='spades'), 52)"
      ]
     },
     "execution_count": 4,
     "metadata": {},
     "output_type": "execute_result"
    }
   ],
   "source": [
    "deck = FrenchDeck()\n",
    "# getitem  len \n",
    "deck[0], len(deck)"
   ]
  },
  {
   "cell_type": "markdown",
   "metadata": {},
   "source": [
    "In addition you can use build in python methods whic take in a sequence, that is any object that implements a `__len__` function and a `__getitem__` fucntion."
   ]
  },
  {
   "cell_type": "code",
   "execution_count": 5,
   "metadata": {},
   "outputs": [],
   "source": [
    "# in additoin you can use other python library methods to do \n",
    "from random import choice,shuffle\n",
    "choice(deck)\n",
    "shuffle(deck)"
   ]
  },
  {
   "cell_type": "code",
   "execution_count": 6,
   "metadata": {},
   "outputs": [
    {
     "data": {
      "text/plain": [
       "([Card(rank='2', suit='diamonds'),\n",
       "  Card(rank='2', suit='hearts'),\n",
       "  Card(rank='2', suit='spades')],\n",
       " [Card(rank='2', suit='diamonds'),\n",
       "  Card(rank='2', suit='hearts'),\n",
       "  Card(rank='2', suit='spades'),\n",
       "  Card(rank='5', suit='spades'),\n",
       "  Card(rank='8', suit='spades'),\n",
       "  Card(rank='K', suit='spades'),\n",
       "  Card(rank='7', suit='hearts'),\n",
       "  Card(rank='A', suit='clubs'),\n",
       "  Card(rank='6', suit='clubs'),\n",
       "  Card(rank='7', suit='spades')])"
      ]
     },
     "execution_count": 6,
     "metadata": {},
     "output_type": "execute_result"
    }
   ],
   "source": [
    "# also support slicing \n",
    "deck[:3], deck[0:10]"
   ]
  },
  {
   "cell_type": "code",
   "execution_count": 7,
   "metadata": {},
   "outputs": [
    {
     "name": "stdout",
     "output_type": "stream",
     "text": [
      "Card(rank='2', suit='diamonds')\n",
      "Card(rank='2', suit='hearts')\n",
      "Card(rank='2', suit='spades')\n",
      "Card(rank='5', suit='spades')\n",
      "Card(rank='8', suit='spades')\n",
      "Card(rank='K', suit='spades')\n",
      "Card(rank='7', suit='hearts')\n",
      "Card(rank='A', suit='clubs')\n",
      "Card(rank='6', suit='clubs')\n",
      "Card(rank='7', suit='spades')\n",
      "Card(rank='3', suit='clubs')\n",
      "Card(rank='8', suit='hearts')\n",
      "Card(rank='K', suit='hearts')\n",
      "Card(rank='4', suit='clubs')\n",
      "Card(rank='4', suit='hearts')\n",
      "Card(rank='A', suit='spades')\n",
      "Card(rank='6', suit='diamonds')\n",
      "Card(rank='2', suit='clubs')\n",
      "Card(rank='4', suit='spades')\n",
      "Card(rank='10', suit='diamonds')\n",
      "Card(rank='8', suit='clubs')\n",
      "Card(rank='Q', suit='spades')\n",
      "Card(rank='J', suit='spades')\n",
      "Card(rank='8', suit='diamonds')\n",
      "Card(rank='10', suit='spades')\n",
      "Card(rank='5', suit='diamonds')\n",
      "Card(rank='A', suit='diamonds')\n",
      "Card(rank='K', suit='clubs')\n",
      "Card(rank='7', suit='clubs')\n",
      "Card(rank='9', suit='clubs')\n",
      "Card(rank='5', suit='clubs')\n",
      "Card(rank='9', suit='diamonds')\n",
      "Card(rank='Q', suit='diamonds')\n",
      "Card(rank='4', suit='diamonds')\n",
      "Card(rank='6', suit='hearts')\n",
      "Card(rank='6', suit='spades')\n",
      "Card(rank='Q', suit='hearts')\n",
      "Card(rank='K', suit='diamonds')\n",
      "Card(rank='10', suit='clubs')\n",
      "Card(rank='Q', suit='clubs')\n",
      "Card(rank='9', suit='hearts')\n",
      "Card(rank='A', suit='hearts')\n",
      "Card(rank='7', suit='diamonds')\n",
      "Card(rank='9', suit='spades')\n",
      "Card(rank='J', suit='hearts')\n",
      "Card(rank='10', suit='hearts')\n",
      "Card(rank='J', suit='clubs')\n",
      "Card(rank='J', suit='diamonds')\n",
      "Card(rank='3', suit='hearts')\n",
      "Card(rank='5', suit='hearts')\n",
      "Card(rank='3', suit='spades')\n",
      "Card(rank='3', suit='diamonds')\n",
      "diamonds\n",
      "3\n"
     ]
    }
   ],
   "source": [
    "# also get iteration \n",
    "for card in deck:\n",
    "    print(card)\n",
    "\n",
    "# or reversed\n",
    "for card in reversed(card):\n",
    "    print(card)"
   ]
  },
  {
   "cell_type": "markdown",
   "metadata": {},
   "source": [
    "We also can use `in` operator even if `__contains__` is not implmented which, the `in` operator will just do a linear scan of the object."
   ]
  },
  {
   "cell_type": "code",
   "execution_count": 8,
   "metadata": {},
   "outputs": [
    {
     "data": {
      "text/plain": [
       "True"
      ]
     },
     "execution_count": 8,
     "metadata": {},
     "output_type": "execute_result"
    }
   ],
   "source": [
    "Card('Q', 'hearts') in deck"
   ]
  },
  {
   "cell_type": "code",
   "execution_count": 9,
   "metadata": {},
   "outputs": [
    {
     "name": "stdout",
     "output_type": "stream",
     "text": [
      "[Card(rank='2', suit='clubs'), Card(rank='2', suit='diamonds'), Card(rank='2', suit='hearts'), Card(rank='2', suit='spades'), Card(rank='3', suit='clubs'), Card(rank='3', suit='diamonds'), Card(rank='3', suit='hearts'), Card(rank='3', suit='spades'), Card(rank='4', suit='clubs'), Card(rank='4', suit='diamonds'), Card(rank='4', suit='hearts'), Card(rank='4', suit='spades'), Card(rank='5', suit='clubs'), Card(rank='5', suit='diamonds'), Card(rank='5', suit='hearts'), Card(rank='5', suit='spades'), Card(rank='6', suit='clubs'), Card(rank='6', suit='diamonds'), Card(rank='6', suit='hearts'), Card(rank='6', suit='spades'), Card(rank='7', suit='clubs'), Card(rank='7', suit='diamonds'), Card(rank='7', suit='hearts'), Card(rank='7', suit='spades'), Card(rank='8', suit='clubs'), Card(rank='8', suit='diamonds'), Card(rank='8', suit='hearts'), Card(rank='8', suit='spades'), Card(rank='9', suit='clubs'), Card(rank='9', suit='diamonds'), Card(rank='9', suit='hearts'), Card(rank='9', suit='spades'), Card(rank='10', suit='clubs'), Card(rank='10', suit='diamonds'), Card(rank='10', suit='hearts'), Card(rank='10', suit='spades'), Card(rank='J', suit='clubs'), Card(rank='J', suit='diamonds'), Card(rank='J', suit='hearts'), Card(rank='J', suit='spades'), Card(rank='Q', suit='clubs'), Card(rank='Q', suit='diamonds'), Card(rank='Q', suit='hearts'), Card(rank='Q', suit='spades'), Card(rank='K', suit='clubs'), Card(rank='K', suit='diamonds'), Card(rank='K', suit='hearts'), Card(rank='K', suit='spades'), Card(rank='A', suit='clubs'), Card(rank='A', suit='diamonds'), Card(rank='A', suit='hearts'), Card(rank='A', suit='spades')] <class 'list'>\n"
     ]
    }
   ],
   "source": [
    "# we can sort by providing a key method \n",
    "suit_values = dict(spades=3, hearts=2, diamonds=1, clubs=0)\n",
    "def spades_high(card):\n",
    "    rank_value = FrenchDeck.ranks.index(card.rank)\n",
    "    return rank_value *len(suit_values)+ suit_values[card.suit]\n",
    "\n",
    "sorted_deck = sorted(deck, key=spades_high)\n",
    "print(sorted_deck, type(sorted_deck))"
   ]
  },
  {
   "cell_type": "code",
   "execution_count": 10,
   "metadata": {},
   "outputs": [],
   "source": [
    "# implementing a object class for 2d vectors\n",
    "import math\n",
    "class Vector:\n",
    "    def __init__(self, x, y) -> None:\n",
    "        self.x = x\n",
    "        self.y = y\n",
    "\n",
    "    def __add__(self, other):\n",
    "        return Vector(self.x+other.x, self.y+other.y)\n",
    "\n",
    "    def __abs__(self):\n",
    "        return math.sqrt(self.x**2 +self.y**2)\n",
    "    \n",
    "    def __mul__(self, scalar):\n",
    "        return Vector(self.x*scalar, self.y*scalar)\n",
    "\n",
    "    def __repr__(self) -> str:\n",
    "        return f\"Vector({self.x}, {self.y})\"\n",
    "    \n",
    "    def __bool__(self):\n",
    "        return bool(abs(self))\n"
   ]
  },
  {
   "cell_type": "code",
   "execution_count": 11,
   "metadata": {},
   "outputs": [
    {
     "data": {
      "text/plain": [
       "(Vector(7, 8), Vector(12, 15), 4.242640687119285, True, False)"
      ]
     },
     "execution_count": 11,
     "metadata": {},
     "output_type": "execute_result"
    }
   ],
   "source": [
    "a = Vector(4,5)\n",
    "b = Vector(3,3)\n",
    "a+b, a*3, abs(b), bool(a), bool(Vector(0,0))\n"
   ]
  }
 ],
 "metadata": {
  "kernelspec": {
   "display_name": "Python 3",
   "language": "python",
   "name": "python3"
  },
  "language_info": {
   "codemirror_mode": {
    "name": "ipython",
    "version": 3
   },
   "file_extension": ".py",
   "mimetype": "text/x-python",
   "name": "python",
   "nbconvert_exporter": "python",
   "pygments_lexer": "ipython3",
   "version": "3.12.3"
  }
 },
 "nbformat": 4,
 "nbformat_minor": 2
}
